{
  "nbformat": 4,
  "nbformat_minor": 0,
  "metadata": {
    "colab": {
      "name": "FunnyQuiz.ipynb",
      "provenance": [],
      "collapsed_sections": [],
      "authorship_tag": "ABX9TyOi1vPnEwOnf0KVgrF4RwcZ",
      "include_colab_link": true
    },
    "kernelspec": {
      "name": "python3",
      "display_name": "Python 3"
    },
    "language_info": {
      "name": "python"
    }
  },
  "cells": [
    {
      "cell_type": "markdown",
      "metadata": {
        "id": "view-in-github",
        "colab_type": "text"
      },
      "source": [
        "<a href=\"https://colab.research.google.com/github/IsuriDisanayaka/-Funny-quiz-mini-game/blob/main/FunnyQuiz.ipynb\" target=\"_parent\"><img src=\"https://colab.research.google.com/assets/colab-badge.svg\" alt=\"Open In Colab\"/></a>"
      ]
    },
    {
      "cell_type": "code",
      "metadata": {
        "colab": {
          "base_uri": "https://localhost:8080/"
        },
        "id": "thviOFfYh_7B",
        "outputId": "1d03919f-c0cd-447d-ea29-6cfe73780a08"
      },
      "source": [
        "print('Welcome to Quiz')\n",
        "\n",
        "answer=input('Are you ready to play the Quiz ? (yes/no) :')\n",
        "score=0\n",
        "\n",
        "print(\"\")\n",
        "print(\"\")\n",
        "if answer.lower()=='yes':\n",
        "    print(\"Question 1: You're 3rd place right now in a race. What place are you in when you pass the person in 2nd place?\")\n",
        "    print(\"1.1st\")\n",
        "    print(\"2.2nd\")\n",
        "    print(\"3.3rd\")\n",
        "    print(\"4.none of above\")\n",
        "    answer=input(\"number: \")\n",
        "    if answer.lower()=='1':\n",
        "        score += 1\n",
        "        print('correct')\n",
        "        print(\"\")\n",
        "    else:\n",
        "        print('Wrong Answer. Answer is 1')\n",
        "        print(\"\")\n",
        "      \n",
        "    print('Question 2: What is middle of Paris?')\n",
        "    print(\"1.R\")\n",
        "    print(\"2.eiffel tower\")\n",
        "    print(\"3.middle\")\n",
        "    print(\"4.none of above\")\n",
        "    answer=input(\"number: \")\n",
        "    if answer.lower()=='1':\n",
        "        score += 1\n",
        "        print('correct')\n",
        "        print(\"\")\n",
        "    else:\n",
        "        print('Wrong Answer. Answer is 2')\n",
        "        print(\"\")\n",
        "   \n",
        "    print(\"Question 3:Where does Superman often go shopping?\")\n",
        "    print(\"1.Amarica\")\n",
        "    print(\"2.Men's Fashion Store\")\n",
        "    print(\"3.FoodCity\")\n",
        "    print(\"4.SuperMaket\")\n",
        "    answer=input(\"number: \")\n",
        "    if answer.lower()=='4':\n",
        "        score += 1\n",
        "        print('correct')\n",
        "        print(\"\")\n",
        "    else:\n",
        "        print('Wrong Answer. Answer is 4')\n",
        "        print(\"\")\n",
        "    print(\"Question 4:Your are my brother.But I am not your brother.who am I?\")\n",
        "    print(\"1.Brother in law\")\n",
        "    print(\"2.Cousin\")\n",
        "    print(\"3.Sister in law\")\n",
        "    print(\"4.Sister\")\n",
        "    answer=input(\"number: \")\n",
        "    if answer.lower()=='4':\n",
        "        score += 1\n",
        "        print('correct')\n",
        "        print(\"\")\n",
        "    else:\n",
        "        print('Wrong Answer. Answer is 4')       \n",
        "        print(\"\")\n",
        "   \n",
        "    print(\"Question 5:Where do you find Roads without vehicles,forests without trees and cities without houses?\")\n",
        "    print(\"1.earth\")\n",
        "    print(\"2.google\")\n",
        "    print(\"3.Map\")\n",
        "    print(\"4.desert\")\n",
        "    answer=input(\"number: \")\n",
        "    if answer.lower()=='3':\n",
        "        score += 1\n",
        "        print('correct')\n",
        "        print(\"\")\n",
        "        print(\"\")\n",
        "    else:\n",
        "        print('Wrong Answer. Answer is 4') \n",
        "        print(\"\")\n",
        "        print(\"\")      \n",
        " \n",
        "print('Thankyou for Playing this small quiz game, you attempted',score,\"questions correctly!\")\n",
        "print('BYE!')"
      ],
      "execution_count": null,
      "outputs": [
        {
          "output_type": "stream",
          "name": "stdout",
          "text": [
            "Welcome to Quiz\n"
          ]
        }
      ]
    }
  ]
}